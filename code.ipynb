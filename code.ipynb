{
 "cells": [
  {
   "cell_type": "markdown",
   "metadata": {},
   "source": [
    "Imports"
   ]
  },
  {
   "cell_type": "code",
   "execution_count": 1,
   "metadata": {},
   "outputs": [],
   "source": [
    "import os\n",
    "from PIL import Image"
   ]
  },
  {
   "cell_type": "markdown",
   "metadata": {},
   "source": [
    "Function to check if 2 colors are in range "
   ]
  },
  {
   "cell_type": "code",
   "execution_count": 2,
   "metadata": {},
   "outputs": [],
   "source": [
    "def ValuesInRange(value1, value2, range):\n",
    "    return abs(value1 - value2) <= range\n",
    "\n",
    "def ColorsInRange(color1, color2, range):\n",
    "    r1, g1, b1 = color1\n",
    "    r2, g2, b2 = color2\n",
    "    return ValuesInRange(r1, r2, range) and ValuesInRange(g1, g2, range) and ValuesInRange(b1, b2, range)"
   ]
  },
  {
   "cell_type": "markdown",
   "metadata": {},
   "source": [
    "Function to represent index map as an image"
   ]
  },
  {
   "cell_type": "code",
   "execution_count": 3,
   "metadata": {},
   "outputs": [],
   "source": [
    "def GetMaxValue(index_map):\n",
    "    max_value = 0\n",
    "    for column in index_map:\n",
    "        for value in column:\n",
    "            if value > max_value:\n",
    "                max_value = value\n",
    "    return max_value\n",
    "\n",
    "def NormalizeIndexMap(index_map, max_value):\n",
    "    normalized_index_map = []\n",
    "    for column in index_map:\n",
    "        new_column = []\n",
    "        for value in column:\n",
    "            new_value = round(value / max_value * 255)\n",
    "            new_column.append(new_value)\n",
    "        normalized_index_map.append(new_column)\n",
    "    return normalized_index_map\n",
    "\n",
    "def IndexMapToImage(index_map):\n",
    "    max_value = GetMaxValue(index_map)\n",
    "    normalized_index_map = NormalizeIndexMap(index_map, max_value)\n",
    "    x, y = (len(index_map), len(index_map[0]))\n",
    "    normalized_index_map_image = Image.new(\"L\", (x, y))\n",
    "    for i in range(x):\n",
    "        for j in range(y):\n",
    "            value = normalized_index_map[i][j]\n",
    "            normalized_index_map_image.putpixel((i, j), value)\n",
    "    return normalized_index_map_image"
   ]
  },
  {
   "cell_type": "markdown",
   "metadata": {},
   "source": [
    "CalculateColorMap function"
   ]
  },
  {
   "cell_type": "code",
   "execution_count": 4,
   "metadata": {},
   "outputs": [],
   "source": [
    "def CalculateColorMap(image):\n",
    "    color_map = {}\n",
    "    x, y = image.size\n",
    "    for i in range(x):\n",
    "        for j in range(y):\n",
    "            r, g, b = image.getpixel((i, j))\n",
    "            if (not (r, g, b) in color_map):\n",
    "                color_map[(r, g, b)] = len(color_map)\n",
    "    index_map = []\n",
    "    for i in range(x):\n",
    "        column = []\n",
    "        for j in range(y):\n",
    "            r, g, b = image.getpixel((i, j))\n",
    "            index = color_map.get((r, g, b))\n",
    "            column.append(index)\n",
    "        index_map.append(column)\n",
    "    return (index_map, color_map)"
   ]
  },
  {
   "cell_type": "markdown",
   "metadata": {},
   "source": [
    "QuantizationLevels function"
   ]
  },
  {
   "cell_type": "code",
   "execution_count": 5,
   "metadata": {},
   "outputs": [],
   "source": [
    "def QuantizationLevels(color_map, range):\n",
    "    color_map_copy = color_map.copy()\n",
    "    quantized_color_map = {}\n",
    "    removed_colors = {}\n",
    "    for color1 in color_map.keys():\n",
    "        if color_map_copy[color1] != -1:\n",
    "            quantized_color_map[color1] = color_map[color1]\n",
    "            color_map_copy[color1] = -1\n",
    "            for color2 in color_map.keys():\n",
    "                if color_map_copy[color2] != -1 and ColorsInRange(color1, color2, range):\n",
    "                    removed_colors[color2] = (color_map[color2], color_map[color1])\n",
    "                    color_map_copy[color2] = -1                    \n",
    "    return (quantized_color_map, removed_colors)"
   ]
  },
  {
   "cell_type": "markdown",
   "metadata": {},
   "source": [
    "AdjustIndex function"
   ]
  },
  {
   "cell_type": "code",
   "execution_count": 6,
   "metadata": {},
   "outputs": [],
   "source": [
    "def AdjustIndex(index_map, removed_colors):\n",
    "    removed_colors_indices = {old_index: new_index for old_index, new_index in removed_colors.values()}\n",
    "    modified_index_map = []\n",
    "    for column in index_map:\n",
    "        new_column = []\n",
    "        for index in column:\n",
    "            if index in removed_colors_indices:\n",
    "                new_column.append(removed_colors_indices[index])\n",
    "            else:\n",
    "                new_column.append(index)\n",
    "        modified_index_map.append(new_column)\n",
    "    return modified_index_map"
   ]
  },
  {
   "cell_type": "markdown",
   "metadata": {},
   "source": [
    "ReverseColorMap function"
   ]
  },
  {
   "cell_type": "code",
   "execution_count": 7,
   "metadata": {},
   "outputs": [],
   "source": [
    "def ReverseColorMap(color_map):\n",
    "    return {value:key for key, value in color_map.items()}"
   ]
  },
  {
   "cell_type": "markdown",
   "metadata": {},
   "source": [
    "ColorMapToImage function"
   ]
  },
  {
   "cell_type": "code",
   "execution_count": 8,
   "metadata": {},
   "outputs": [],
   "source": [
    "def ColorMapToImage(index_map, color_map):\n",
    "    color_map = ReverseColorMap(color_map)\n",
    "    x = len(index_map)\n",
    "    y = len(index_map[0])\n",
    "    image = Image.new(\"RGB\", (x, y))\n",
    "    for i in range(x):\n",
    "        for j in range(y):\n",
    "            index = index_map[i][j]\n",
    "            r, g, b = color_map.get(index)\n",
    "            image.putpixel((i,j), (r, g, b))\n",
    "    return image"
   ]
  },
  {
   "cell_type": "markdown",
   "metadata": {},
   "source": [
    "Test"
   ]
  },
  {
   "cell_type": "code",
   "execution_count": 9,
   "metadata": {},
   "outputs": [],
   "source": [
    "current_directory = os.getcwd()\n",
    "image_path = current_directory + R\"\\images\\test.jpg\"\n",
    "image = Image.open(image_path)"
   ]
  },
  {
   "cell_type": "code",
   "execution_count": 10,
   "metadata": {},
   "outputs": [],
   "source": [
    "index_map, color_map = CalculateColorMap(image)"
   ]
  },
  {
   "cell_type": "code",
   "execution_count": 11,
   "metadata": {},
   "outputs": [],
   "source": [
    "reconstructed_image = ColorMapToImage(index_map, color_map)\n",
    "reconstructed_image.save(current_directory + R\"\\results\\test_reconstructed.jpg\")"
   ]
  },
  {
   "cell_type": "code",
   "execution_count": 12,
   "metadata": {},
   "outputs": [],
   "source": [
    "index_map_image = IndexMapToImage(index_map)\n",
    "index_map_image.save(current_directory + R\"\\results\\test_reconstructed_index_map.jpg\")"
   ]
  },
  {
   "cell_type": "code",
   "execution_count": 17,
   "metadata": {},
   "outputs": [],
   "source": [
    "quantized_color_map, removed_colors = QuantizationLevels(color_map, 30)"
   ]
  },
  {
   "cell_type": "code",
   "execution_count": 18,
   "metadata": {},
   "outputs": [],
   "source": [
    "modified_index_map = AdjustIndex(index_map, removed_colors)"
   ]
  },
  {
   "cell_type": "code",
   "execution_count": 19,
   "metadata": {},
   "outputs": [],
   "source": [
    "quantized_image = ColorMapToImage(modified_index_map, quantized_color_map)\n",
    "quantized_image.save(current_directory + R\"\\results\\test_quantized_30.jpg\")"
   ]
  },
  {
   "cell_type": "code",
   "execution_count": 20,
   "metadata": {},
   "outputs": [],
   "source": [
    "modified_index_map_image = IndexMapToImage(modified_index_map)\n",
    "modified_index_map_image.save(current_directory + R\"\\results\\test_quantized_30_index_map.jpg\")"
   ]
  }
 ],
 "metadata": {
  "interpreter": {
   "hash": "b3ba2566441a7c06988d0923437866b63cedc61552a5af99d1f4fb67d367b25f"
  },
  "kernelspec": {
   "display_name": "Python 3.8.8 64-bit ('base': conda)",
   "name": "python3"
  },
  "language_info": {
   "codemirror_mode": {
    "name": "ipython",
    "version": 3
   },
   "file_extension": ".py",
   "mimetype": "text/x-python",
   "name": "python",
   "nbconvert_exporter": "python",
   "pygments_lexer": "ipython3",
   "version": "3.8.12"
  },
  "orig_nbformat": 4
 },
 "nbformat": 4,
 "nbformat_minor": 2
}
